{
  "cells": [
    {
      "cell_type": "code",
      "execution_count": 2,
      "metadata": {
        "id": "RLvDI-qJUnnf"
      },
      "outputs": [],
      "source": [
        "import numpy as np\n",
        "import pandas as pd\n",
        "import matplotlib.pyplot as plt\n",
        "import seaborn as sns\n",
        "import matplotlib.pyplot as plt\n",
        "\n",
        "from sklearn.cluster import KMeans"
      ]
    },
    {
      "cell_type": "code",
      "execution_count": 5,
      "metadata": {
        "colab": {
          "base_uri": "https://localhost:8080/",
          "height": 206
        },
        "id": "VcIBl-jCVvI9",
        "outputId": "336f4923-6d7b-4e63-d385-df654590dc3c"
      },
      "outputs": [
        {
          "data": {
            "text/html": [
              "<div>\n",
              "<style scoped>\n",
              "    .dataframe tbody tr th:only-of-type {\n",
              "        vertical-align: middle;\n",
              "    }\n",
              "\n",
              "    .dataframe tbody tr th {\n",
              "        vertical-align: top;\n",
              "    }\n",
              "\n",
              "    .dataframe thead th {\n",
              "        text-align: right;\n",
              "    }\n",
              "</style>\n",
              "<table border=\"1\" class=\"dataframe\">\n",
              "  <thead>\n",
              "    <tr style=\"text-align: right;\">\n",
              "      <th></th>\n",
              "      <th>Brand Name</th>\n",
              "      <th>Battery Capacity</th>\n",
              "      <th>Range</th>\n",
              "      <th>Num of Seats</th>\n",
              "      <th>Charging T</th>\n",
              "      <th>Price</th>\n",
              "      <th>TopSpeed</th>\n",
              "      <th>Transmission</th>\n",
              "    </tr>\n",
              "  </thead>\n",
              "  <tbody>\n",
              "    <tr>\n",
              "      <th>0</th>\n",
              "      <td>Audi RS e-tron GT</td>\n",
              "      <td>93</td>\n",
              "      <td>480</td>\n",
              "      <td>5</td>\n",
              "      <td>9</td>\n",
              "      <td>204</td>\n",
              "      <td>250</td>\n",
              "      <td>Automatic</td>\n",
              "    </tr>\n",
              "    <tr>\n",
              "      <th>1</th>\n",
              "      <td>Audi e-tron GT</td>\n",
              "      <td>93</td>\n",
              "      <td>500</td>\n",
              "      <td>5</td>\n",
              "      <td>9</td>\n",
              "      <td>179</td>\n",
              "      <td>245</td>\n",
              "      <td>Automatic</td>\n",
              "    </tr>\n",
              "    <tr>\n",
              "      <th>2</th>\n",
              "      <td>Audi e-tron</td>\n",
              "      <td>95</td>\n",
              "      <td>484</td>\n",
              "      <td>5</td>\n",
              "      <td>9</td>\n",
              "      <td>123</td>\n",
              "      <td>200</td>\n",
              "      <td>Automatic</td>\n",
              "    </tr>\n",
              "    <tr>\n",
              "      <th>3</th>\n",
              "      <td>Tata Nexon EV</td>\n",
              "      <td>30</td>\n",
              "      <td>312</td>\n",
              "      <td>5</td>\n",
              "      <td>9</td>\n",
              "      <td>17</td>\n",
              "      <td>180</td>\n",
              "      <td>Automatic</td>\n",
              "    </tr>\n",
              "    <tr>\n",
              "      <th>4</th>\n",
              "      <td>Tata Tigor EV</td>\n",
              "      <td>26</td>\n",
              "      <td>306</td>\n",
              "      <td>5</td>\n",
              "      <td>9</td>\n",
              "      <td>14</td>\n",
              "      <td>120</td>\n",
              "      <td>Automatic</td>\n",
              "    </tr>\n",
              "  </tbody>\n",
              "</table>\n",
              "</div>"
            ],
            "text/plain": [
              "          Brand Name  Battery Capacity  Range  Num of Seats  Charging T  \\\n",
              "0  Audi RS e-tron GT                93    480             5           9   \n",
              "1     Audi e-tron GT                93    500             5           9   \n",
              "2        Audi e-tron                95    484             5           9   \n",
              "3      Tata Nexon EV                30    312             5           9   \n",
              "4      Tata Tigor EV                26    306             5           9   \n",
              "\n",
              "   Price  TopSpeed Transmission  \n",
              "0    204       250    Automatic  \n",
              "1    179       245    Automatic  \n",
              "2    123       200    Automatic  \n",
              "3     17       180    Automatic  \n",
              "4     14       120    Automatic  "
            ]
          },
          "execution_count": 5,
          "metadata": {},
          "output_type": "execute_result"
        }
      ],
      "source": [
        "data =pd.read_csv(\"new dataset.csv\")\n",
        "data.head()"
      ]
    },
    {
      "cell_type": "code",
      "execution_count": 6,
      "metadata": {
        "colab": {
          "base_uri": "https://localhost:8080/"
        },
        "id": "wxvFDHj3VyJW",
        "outputId": "3ec4b0b4-b18c-468c-aecf-1049665c9a9a"
      },
      "outputs": [
        {
          "name": "stdout",
          "output_type": "stream",
          "text": [
            "<class 'pandas.core.frame.DataFrame'>\n",
            "RangeIndex: 18 entries, 0 to 17\n",
            "Data columns (total 8 columns):\n",
            " #   Column            Non-Null Count  Dtype \n",
            "---  ------            --------------  ----- \n",
            " 0   Brand Name        18 non-null     object\n",
            " 1   Battery Capacity  18 non-null     int64 \n",
            " 2   Range             18 non-null     int64 \n",
            " 3   Num of Seats      18 non-null     int64 \n",
            " 4   Charging T        18 non-null     int64 \n",
            " 5   Price             18 non-null     int64 \n",
            " 6   TopSpeed          18 non-null     int64 \n",
            " 7   Transmission      18 non-null     object\n",
            "dtypes: int64(6), object(2)\n",
            "memory usage: 1.2+ KB\n"
          ]
        }
      ],
      "source": [
        "data.info()"
      ]
    },
    {
      "cell_type": "code",
      "execution_count": 7,
      "metadata": {
        "colab": {
          "base_uri": "https://localhost:8080/"
        },
        "id": "6Ea3EW-SV1Yq",
        "outputId": "87904fdc-fed8-4a6f-d4c1-052b41b12330"
      },
      "outputs": [
        {
          "name": "stdout",
          "output_type": "stream",
          "text": [
            "Brand Name          0\n",
            "Battery Capacity    0\n",
            "Range               0\n",
            "Num of Seats        0\n",
            "Charging T          0\n",
            "Price               0\n",
            "TopSpeed            0\n",
            "Transmission        0\n",
            "dtype: int64\n"
          ]
        }
      ],
      "source": [
        "print(pd.isnull(data).sum())"
      ]
    },
    {
      "cell_type": "code",
      "execution_count": 8,
      "metadata": {
        "colab": {
          "base_uri": "https://localhost:8080/"
        },
        "id": "gfohXTrgV38p",
        "outputId": "e72addcc-089e-4f3e-bd4e-6910e0178c4f"
      },
      "outputs": [
        {
          "data": {
            "text/plain": [
              "Index(['Brand Name', 'Battery Capacity', 'Range', 'Num of Seats', 'Charging T',\n",
              "       'Price', 'TopSpeed', 'Transmission'],\n",
              "      dtype='object')"
            ]
          },
          "execution_count": 8,
          "metadata": {},
          "output_type": "execute_result"
        }
      ],
      "source": [
        "data.columns"
      ]
    },
    {
      "cell_type": "code",
      "execution_count": 9,
      "metadata": {
        "colab": {
          "base_uri": "https://localhost:8080/",
          "height": 394
        },
        "id": "SAt0USwbV5zZ",
        "outputId": "703b2a0d-3cd9-49a8-dee8-85a92f72ed7f"
      },
      "outputs": [
        {
          "data": {
            "text/html": [
              "<div>\n",
              "<style scoped>\n",
              "    .dataframe tbody tr th:only-of-type {\n",
              "        vertical-align: middle;\n",
              "    }\n",
              "\n",
              "    .dataframe tbody tr th {\n",
              "        vertical-align: top;\n",
              "    }\n",
              "\n",
              "    .dataframe thead th {\n",
              "        text-align: right;\n",
              "    }\n",
              "</style>\n",
              "<table border=\"1\" class=\"dataframe\">\n",
              "  <thead>\n",
              "    <tr style=\"text-align: right;\">\n",
              "      <th></th>\n",
              "      <th>Brand Name</th>\n",
              "      <th>Battery Capacity</th>\n",
              "      <th>Range</th>\n",
              "      <th>Num of Seats</th>\n",
              "      <th>Charging T</th>\n",
              "      <th>Price</th>\n",
              "      <th>TopSpeed</th>\n",
              "      <th>Transmission</th>\n",
              "    </tr>\n",
              "  </thead>\n",
              "  <tbody>\n",
              "    <tr>\n",
              "      <th>count</th>\n",
              "      <td>18</td>\n",
              "      <td>18.000000</td>\n",
              "      <td>18.000000</td>\n",
              "      <td>18.000000</td>\n",
              "      <td>18.000000</td>\n",
              "      <td>18.000000</td>\n",
              "      <td>18.000000</td>\n",
              "      <td>18</td>\n",
              "    </tr>\n",
              "    <tr>\n",
              "      <th>unique</th>\n",
              "      <td>18</td>\n",
              "      <td>NaN</td>\n",
              "      <td>NaN</td>\n",
              "      <td>NaN</td>\n",
              "      <td>NaN</td>\n",
              "      <td>NaN</td>\n",
              "      <td>NaN</td>\n",
              "      <td>1</td>\n",
              "    </tr>\n",
              "    <tr>\n",
              "      <th>top</th>\n",
              "      <td>Hyudai Kona Electric</td>\n",
              "      <td>NaN</td>\n",
              "      <td>NaN</td>\n",
              "      <td>NaN</td>\n",
              "      <td>NaN</td>\n",
              "      <td>NaN</td>\n",
              "      <td>NaN</td>\n",
              "      <td>Automatic</td>\n",
              "    </tr>\n",
              "    <tr>\n",
              "      <th>freq</th>\n",
              "      <td>1</td>\n",
              "      <td>NaN</td>\n",
              "      <td>NaN</td>\n",
              "      <td>NaN</td>\n",
              "      <td>NaN</td>\n",
              "      <td>NaN</td>\n",
              "      <td>NaN</td>\n",
              "      <td>18</td>\n",
              "    </tr>\n",
              "    <tr>\n",
              "      <th>mean</th>\n",
              "      <td>NaN</td>\n",
              "      <td>62.277778</td>\n",
              "      <td>396.944444</td>\n",
              "      <td>4.944444</td>\n",
              "      <td>15.666667</td>\n",
              "      <td>75.111111</td>\n",
              "      <td>180.888889</td>\n",
              "      <td>NaN</td>\n",
              "    </tr>\n",
              "    <tr>\n",
              "      <th>std</th>\n",
              "      <td>NaN</td>\n",
              "      <td>28.725487</td>\n",
              "      <td>116.619276</td>\n",
              "      <td>0.235702</td>\n",
              "      <td>11.591072</td>\n",
              "      <td>63.751253</td>\n",
              "      <td>56.527858</td>\n",
              "      <td>NaN</td>\n",
              "    </tr>\n",
              "    <tr>\n",
              "      <th>min</th>\n",
              "      <td>NaN</td>\n",
              "      <td>10.000000</td>\n",
              "      <td>100.000000</td>\n",
              "      <td>4.000000</td>\n",
              "      <td>7.000000</td>\n",
              "      <td>9.000000</td>\n",
              "      <td>80.000000</td>\n",
              "      <td>NaN</td>\n",
              "    </tr>\n",
              "    <tr>\n",
              "      <th>25%</th>\n",
              "      <td>NaN</td>\n",
              "      <td>39.250000</td>\n",
              "      <td>358.500000</td>\n",
              "      <td>5.000000</td>\n",
              "      <td>9.000000</td>\n",
              "      <td>18.500000</td>\n",
              "      <td>128.750000</td>\n",
              "      <td>NaN</td>\n",
              "    </tr>\n",
              "    <tr>\n",
              "      <th>50%</th>\n",
              "      <td>NaN</td>\n",
              "      <td>71.000000</td>\n",
              "      <td>434.000000</td>\n",
              "      <td>5.000000</td>\n",
              "      <td>9.500000</td>\n",
              "      <td>64.500000</td>\n",
              "      <td>190.000000</td>\n",
              "      <td>NaN</td>\n",
              "    </tr>\n",
              "    <tr>\n",
              "      <th>75%</th>\n",
              "      <td>NaN</td>\n",
              "      <td>87.500000</td>\n",
              "      <td>477.750000</td>\n",
              "      <td>5.000000</td>\n",
              "      <td>19.000000</td>\n",
              "      <td>114.250000</td>\n",
              "      <td>233.750000</td>\n",
              "      <td>NaN</td>\n",
              "    </tr>\n",
              "    <tr>\n",
              "      <th>max</th>\n",
              "      <td>NaN</td>\n",
              "      <td>95.000000</td>\n",
              "      <td>500.000000</td>\n",
              "      <td>5.000000</td>\n",
              "      <td>46.000000</td>\n",
              "      <td>204.000000</td>\n",
              "      <td>250.000000</td>\n",
              "      <td>NaN</td>\n",
              "    </tr>\n",
              "  </tbody>\n",
              "</table>\n",
              "</div>"
            ],
            "text/plain": [
              "                  Brand Name  Battery Capacity       Range  Num of Seats  \\\n",
              "count                     18         18.000000   18.000000     18.000000   \n",
              "unique                    18               NaN         NaN           NaN   \n",
              "top     Hyudai Kona Electric               NaN         NaN           NaN   \n",
              "freq                       1               NaN         NaN           NaN   \n",
              "mean                     NaN         62.277778  396.944444      4.944444   \n",
              "std                      NaN         28.725487  116.619276      0.235702   \n",
              "min                      NaN         10.000000  100.000000      4.000000   \n",
              "25%                      NaN         39.250000  358.500000      5.000000   \n",
              "50%                      NaN         71.000000  434.000000      5.000000   \n",
              "75%                      NaN         87.500000  477.750000      5.000000   \n",
              "max                      NaN         95.000000  500.000000      5.000000   \n",
              "\n",
              "        Charging T       Price    TopSpeed Transmission  \n",
              "count    18.000000   18.000000   18.000000           18  \n",
              "unique         NaN         NaN         NaN            1  \n",
              "top            NaN         NaN         NaN    Automatic  \n",
              "freq           NaN         NaN         NaN           18  \n",
              "mean     15.666667   75.111111  180.888889          NaN  \n",
              "std      11.591072   63.751253   56.527858          NaN  \n",
              "min       7.000000    9.000000   80.000000          NaN  \n",
              "25%       9.000000   18.500000  128.750000          NaN  \n",
              "50%       9.500000   64.500000  190.000000          NaN  \n",
              "75%      19.000000  114.250000  233.750000          NaN  \n",
              "max      46.000000  204.000000  250.000000          NaN  "
            ]
          },
          "execution_count": 9,
          "metadata": {},
          "output_type": "execute_result"
        }
      ],
      "source": [
        "data.describe(include='all')"
      ]
    },
    {
      "cell_type": "code",
      "execution_count": 11,
      "metadata": {
        "id": "jQPZlGZ0WHrv"
      },
      "outputs": [],
      "source": [
        "data['Transmission'] = data['Transmission'].astype('category')\n",
        "data['Transmission'] = data['Transmission'].cat.codes\n",
        "\n",
        "data['Brand Name'] = data['Brand Name'].astype('category')\n",
        "data['Brand Name'] = data['Brand Name'].cat.codes"
      ]
    },
    {
      "cell_type": "code",
      "execution_count": 12,
      "metadata": {
        "colab": {
          "base_uri": "https://localhost:8080/",
          "height": 614
        },
        "id": "Ut4Wsm2LWhMH",
        "outputId": "9928cce2-5aa8-4451-ae8e-ef663144558d"
      },
      "outputs": [
        {
          "data": {
            "text/html": [
              "<div>\n",
              "<style scoped>\n",
              "    .dataframe tbody tr th:only-of-type {\n",
              "        vertical-align: middle;\n",
              "    }\n",
              "\n",
              "    .dataframe tbody tr th {\n",
              "        vertical-align: top;\n",
              "    }\n",
              "\n",
              "    .dataframe thead th {\n",
              "        text-align: right;\n",
              "    }\n",
              "</style>\n",
              "<table border=\"1\" class=\"dataframe\">\n",
              "  <thead>\n",
              "    <tr style=\"text-align: right;\">\n",
              "      <th></th>\n",
              "      <th>Brand Name</th>\n",
              "      <th>Battery Capacity</th>\n",
              "      <th>Range</th>\n",
              "      <th>Num of Seats</th>\n",
              "      <th>Charging T</th>\n",
              "      <th>Price</th>\n",
              "      <th>TopSpeed</th>\n",
              "      <th>Transmission</th>\n",
              "    </tr>\n",
              "  </thead>\n",
              "  <tbody>\n",
              "    <tr>\n",
              "      <th>0</th>\n",
              "      <td>1</td>\n",
              "      <td>93</td>\n",
              "      <td>480</td>\n",
              "      <td>5</td>\n",
              "      <td>9</td>\n",
              "      <td>204</td>\n",
              "      <td>250</td>\n",
              "      <td>0</td>\n",
              "    </tr>\n",
              "    <tr>\n",
              "      <th>1</th>\n",
              "      <td>3</td>\n",
              "      <td>93</td>\n",
              "      <td>500</td>\n",
              "      <td>5</td>\n",
              "      <td>9</td>\n",
              "      <td>179</td>\n",
              "      <td>245</td>\n",
              "      <td>0</td>\n",
              "    </tr>\n",
              "    <tr>\n",
              "      <th>2</th>\n",
              "      <td>2</td>\n",
              "      <td>95</td>\n",
              "      <td>484</td>\n",
              "      <td>5</td>\n",
              "      <td>9</td>\n",
              "      <td>123</td>\n",
              "      <td>200</td>\n",
              "      <td>0</td>\n",
              "    </tr>\n",
              "    <tr>\n",
              "      <th>3</th>\n",
              "      <td>15</td>\n",
              "      <td>30</td>\n",
              "      <td>312</td>\n",
              "      <td>5</td>\n",
              "      <td>9</td>\n",
              "      <td>17</td>\n",
              "      <td>180</td>\n",
              "      <td>0</td>\n",
              "    </tr>\n",
              "    <tr>\n",
              "      <th>4</th>\n",
              "      <td>17</td>\n",
              "      <td>26</td>\n",
              "      <td>306</td>\n",
              "      <td>5</td>\n",
              "      <td>9</td>\n",
              "      <td>14</td>\n",
              "      <td>120</td>\n",
              "      <td>0</td>\n",
              "    </tr>\n",
              "    <tr>\n",
              "      <th>5</th>\n",
              "      <td>6</td>\n",
              "      <td>39</td>\n",
              "      <td>452</td>\n",
              "      <td>5</td>\n",
              "      <td>7</td>\n",
              "      <td>24</td>\n",
              "      <td>155</td>\n",
              "      <td>0</td>\n",
              "    </tr>\n",
              "    <tr>\n",
              "      <th>6</th>\n",
              "      <td>8</td>\n",
              "      <td>90</td>\n",
              "      <td>470</td>\n",
              "      <td>5</td>\n",
              "      <td>13</td>\n",
              "      <td>112</td>\n",
              "      <td>200</td>\n",
              "      <td>0</td>\n",
              "    </tr>\n",
              "    <tr>\n",
              "      <th>7</th>\n",
              "      <td>11</td>\n",
              "      <td>21</td>\n",
              "      <td>140</td>\n",
              "      <td>5</td>\n",
              "      <td>12</td>\n",
              "      <td>10</td>\n",
              "      <td>86</td>\n",
              "      <td>0</td>\n",
              "    </tr>\n",
              "    <tr>\n",
              "      <th>8</th>\n",
              "      <td>9</td>\n",
              "      <td>44</td>\n",
              "      <td>340</td>\n",
              "      <td>5</td>\n",
              "      <td>8</td>\n",
              "      <td>25</td>\n",
              "      <td>120</td>\n",
              "      <td>0</td>\n",
              "    </tr>\n",
              "    <tr>\n",
              "      <th>9</th>\n",
              "      <td>12</td>\n",
              "      <td>80</td>\n",
              "      <td>414</td>\n",
              "      <td>5</td>\n",
              "      <td>21</td>\n",
              "      <td>100</td>\n",
              "      <td>180</td>\n",
              "      <td>0</td>\n",
              "    </tr>\n",
              "    <tr>\n",
              "      <th>10</th>\n",
              "      <td>10</td>\n",
              "      <td>10</td>\n",
              "      <td>100</td>\n",
              "      <td>4</td>\n",
              "      <td>8</td>\n",
              "      <td>9</td>\n",
              "      <td>80</td>\n",
              "      <td>0</td>\n",
              "    </tr>\n",
              "    <tr>\n",
              "      <th>11</th>\n",
              "      <td>16</td>\n",
              "      <td>40</td>\n",
              "      <td>437</td>\n",
              "      <td>5</td>\n",
              "      <td>9</td>\n",
              "      <td>17</td>\n",
              "      <td>245</td>\n",
              "      <td>0</td>\n",
              "    </tr>\n",
              "    <tr>\n",
              "      <th>12</th>\n",
              "      <td>7</td>\n",
              "      <td>64</td>\n",
              "      <td>484</td>\n",
              "      <td>5</td>\n",
              "      <td>12</td>\n",
              "      <td>23</td>\n",
              "      <td>200</td>\n",
              "      <td>0</td>\n",
              "    </tr>\n",
              "    <tr>\n",
              "      <th>13</th>\n",
              "      <td>5</td>\n",
              "      <td>71</td>\n",
              "      <td>415</td>\n",
              "      <td>5</td>\n",
              "      <td>29</td>\n",
              "      <td>30</td>\n",
              "      <td>120</td>\n",
              "      <td>0</td>\n",
              "    </tr>\n",
              "    <tr>\n",
              "      <th>14</th>\n",
              "      <td>13</td>\n",
              "      <td>80</td>\n",
              "      <td>471</td>\n",
              "      <td>5</td>\n",
              "      <td>40</td>\n",
              "      <td>99</td>\n",
              "      <td>180</td>\n",
              "      <td>0</td>\n",
              "    </tr>\n",
              "    <tr>\n",
              "      <th>15</th>\n",
              "      <td>4</td>\n",
              "      <td>71</td>\n",
              "      <td>425</td>\n",
              "      <td>5</td>\n",
              "      <td>10</td>\n",
              "      <td>115</td>\n",
              "      <td>250</td>\n",
              "      <td>0</td>\n",
              "    </tr>\n",
              "    <tr>\n",
              "      <th>16</th>\n",
              "      <td>14</td>\n",
              "      <td>79</td>\n",
              "      <td>431</td>\n",
              "      <td>5</td>\n",
              "      <td>22</td>\n",
              "      <td>150</td>\n",
              "      <td>245</td>\n",
              "      <td>0</td>\n",
              "    </tr>\n",
              "    <tr>\n",
              "      <th>17</th>\n",
              "      <td>0</td>\n",
              "      <td>95</td>\n",
              "      <td>484</td>\n",
              "      <td>5</td>\n",
              "      <td>46</td>\n",
              "      <td>101</td>\n",
              "      <td>200</td>\n",
              "      <td>0</td>\n",
              "    </tr>\n",
              "  </tbody>\n",
              "</table>\n",
              "</div>"
            ],
            "text/plain": [
              "    Brand Name  Battery Capacity  Range  Num of Seats  Charging T  Price  \\\n",
              "0            1                93    480             5           9    204   \n",
              "1            3                93    500             5           9    179   \n",
              "2            2                95    484             5           9    123   \n",
              "3           15                30    312             5           9     17   \n",
              "4           17                26    306             5           9     14   \n",
              "5            6                39    452             5           7     24   \n",
              "6            8                90    470             5          13    112   \n",
              "7           11                21    140             5          12     10   \n",
              "8            9                44    340             5           8     25   \n",
              "9           12                80    414             5          21    100   \n",
              "10          10                10    100             4           8      9   \n",
              "11          16                40    437             5           9     17   \n",
              "12           7                64    484             5          12     23   \n",
              "13           5                71    415             5          29     30   \n",
              "14          13                80    471             5          40     99   \n",
              "15           4                71    425             5          10    115   \n",
              "16          14                79    431             5          22    150   \n",
              "17           0                95    484             5          46    101   \n",
              "\n",
              "    TopSpeed  Transmission  \n",
              "0        250             0  \n",
              "1        245             0  \n",
              "2        200             0  \n",
              "3        180             0  \n",
              "4        120             0  \n",
              "5        155             0  \n",
              "6        200             0  \n",
              "7         86             0  \n",
              "8        120             0  \n",
              "9        180             0  \n",
              "10        80             0  \n",
              "11       245             0  \n",
              "12       200             0  \n",
              "13       120             0  \n",
              "14       180             0  \n",
              "15       250             0  \n",
              "16       245             0  \n",
              "17       200             0  "
            ]
          },
          "execution_count": 12,
          "metadata": {},
          "output_type": "execute_result"
        }
      ],
      "source": [
        "data"
      ]
    },
    {
      "cell_type": "code",
      "execution_count": 13,
      "metadata": {
        "colab": {
          "base_uri": "https://localhost:8080/"
        },
        "id": "mH0cEvgbWixd",
        "outputId": "7988fb93-0d07-4f39-815f-353ef5e48513"
      },
      "outputs": [
        {
          "name": "stdout",
          "output_type": "stream",
          "text": [
            "<class 'pandas.core.frame.DataFrame'>\n",
            "RangeIndex: 18 entries, 0 to 17\n",
            "Data columns (total 8 columns):\n",
            " #   Column            Non-Null Count  Dtype\n",
            "---  ------            --------------  -----\n",
            " 0   Brand Name        18 non-null     int8 \n",
            " 1   Battery Capacity  18 non-null     int64\n",
            " 2   Range             18 non-null     int64\n",
            " 3   Num of Seats      18 non-null     int64\n",
            " 4   Charging T        18 non-null     int64\n",
            " 5   Price             18 non-null     int64\n",
            " 6   TopSpeed          18 non-null     int64\n",
            " 7   Transmission      18 non-null     int8 \n",
            "dtypes: int64(6), int8(2)\n",
            "memory usage: 1.0 KB\n"
          ]
        }
      ],
      "source": [
        "data.info()"
      ]
    },
    {
      "cell_type": "code",
      "execution_count": 14,
      "metadata": {
        "colab": {
          "base_uri": "https://localhost:8080/"
        },
        "id": "Lak-RYrAWlRK",
        "outputId": "a95a1700-bba9-4ec2-fa67-f35b2ecf1805"
      },
      "outputs": [
        {
          "data": {
            "text/plain": [
              "Brand Name          0\n",
              "Battery Capacity    0\n",
              "Range               0\n",
              "Num of Seats        0\n",
              "Charging T          0\n",
              "Price               0\n",
              "TopSpeed            0\n",
              "Transmission        0\n",
              "dtype: int64"
            ]
          },
          "execution_count": 14,
          "metadata": {},
          "output_type": "execute_result"
        }
      ],
      "source": [
        "data.isna().sum()"
      ]
    },
    {
      "cell_type": "code",
      "execution_count": 15,
      "metadata": {
        "colab": {
          "base_uri": "https://localhost:8080/",
          "height": 300
        },
        "id": "VGWhQQFqYE1F",
        "outputId": "f3d85d84-d47e-4de9-fc0d-321586b42103"
      },
      "outputs": [
        {
          "data": {
            "text/html": [
              "<div>\n",
              "<style scoped>\n",
              "    .dataframe tbody tr th:only-of-type {\n",
              "        vertical-align: middle;\n",
              "    }\n",
              "\n",
              "    .dataframe tbody tr th {\n",
              "        vertical-align: top;\n",
              "    }\n",
              "\n",
              "    .dataframe thead th {\n",
              "        text-align: right;\n",
              "    }\n",
              "</style>\n",
              "<table border=\"1\" class=\"dataframe\">\n",
              "  <thead>\n",
              "    <tr style=\"text-align: right;\">\n",
              "      <th></th>\n",
              "      <th>Brand Name</th>\n",
              "      <th>Battery Capacity</th>\n",
              "      <th>Range</th>\n",
              "      <th>Num of Seats</th>\n",
              "      <th>Charging T</th>\n",
              "      <th>Price</th>\n",
              "      <th>TopSpeed</th>\n",
              "      <th>Transmission</th>\n",
              "    </tr>\n",
              "  </thead>\n",
              "  <tbody>\n",
              "    <tr>\n",
              "      <th>Brand Name</th>\n",
              "      <td>1.000000</td>\n",
              "      <td>-0.598584</td>\n",
              "      <td>-0.429949</td>\n",
              "      <td>-0.070122</td>\n",
              "      <td>-0.125481</td>\n",
              "      <td>-0.504169</td>\n",
              "      <td>-0.262173</td>\n",
              "      <td>NaN</td>\n",
              "    </tr>\n",
              "    <tr>\n",
              "      <th>Battery Capacity</th>\n",
              "      <td>-0.598584</td>\n",
              "      <td>1.000000</td>\n",
              "      <td>0.829061</td>\n",
              "      <td>0.454189</td>\n",
              "      <td>0.438610</td>\n",
              "      <td>0.841789</td>\n",
              "      <td>0.678679</td>\n",
              "      <td>NaN</td>\n",
              "    </tr>\n",
              "    <tr>\n",
              "      <th>Range</th>\n",
              "      <td>-0.429949</td>\n",
              "      <td>0.829061</td>\n",
              "      <td>1.000000</td>\n",
              "      <td>0.635466</td>\n",
              "      <td>0.286326</td>\n",
              "      <td>0.598219</td>\n",
              "      <td>0.769523</td>\n",
              "      <td>NaN</td>\n",
              "    </tr>\n",
              "    <tr>\n",
              "      <th>Num of Seats</th>\n",
              "      <td>-0.070122</td>\n",
              "      <td>0.454189</td>\n",
              "      <td>0.635466</td>\n",
              "      <td>1.000000</td>\n",
              "      <td>0.165071</td>\n",
              "      <td>0.258805</td>\n",
              "      <td>0.445418</td>\n",
              "      <td>NaN</td>\n",
              "    </tr>\n",
              "    <tr>\n",
              "      <th>Charging T</th>\n",
              "      <td>-0.125481</td>\n",
              "      <td>0.438610</td>\n",
              "      <td>0.286326</td>\n",
              "      <td>0.165071</td>\n",
              "      <td>1.000000</td>\n",
              "      <td>0.168974</td>\n",
              "      <td>0.037377</td>\n",
              "      <td>NaN</td>\n",
              "    </tr>\n",
              "    <tr>\n",
              "      <th>Price</th>\n",
              "      <td>-0.504169</td>\n",
              "      <td>0.841789</td>\n",
              "      <td>0.598219</td>\n",
              "      <td>0.258805</td>\n",
              "      <td>0.168974</td>\n",
              "      <td>1.000000</td>\n",
              "      <td>0.721774</td>\n",
              "      <td>NaN</td>\n",
              "    </tr>\n",
              "    <tr>\n",
              "      <th>TopSpeed</th>\n",
              "      <td>-0.262173</td>\n",
              "      <td>0.678679</td>\n",
              "      <td>0.769523</td>\n",
              "      <td>0.445418</td>\n",
              "      <td>0.037377</td>\n",
              "      <td>0.721774</td>\n",
              "      <td>1.000000</td>\n",
              "      <td>NaN</td>\n",
              "    </tr>\n",
              "    <tr>\n",
              "      <th>Transmission</th>\n",
              "      <td>NaN</td>\n",
              "      <td>NaN</td>\n",
              "      <td>NaN</td>\n",
              "      <td>NaN</td>\n",
              "      <td>NaN</td>\n",
              "      <td>NaN</td>\n",
              "      <td>NaN</td>\n",
              "      <td>NaN</td>\n",
              "    </tr>\n",
              "  </tbody>\n",
              "</table>\n",
              "</div>"
            ],
            "text/plain": [
              "                  Brand Name  Battery Capacity     Range  Num of Seats  \\\n",
              "Brand Name          1.000000         -0.598584 -0.429949     -0.070122   \n",
              "Battery Capacity   -0.598584          1.000000  0.829061      0.454189   \n",
              "Range              -0.429949          0.829061  1.000000      0.635466   \n",
              "Num of Seats       -0.070122          0.454189  0.635466      1.000000   \n",
              "Charging T         -0.125481          0.438610  0.286326      0.165071   \n",
              "Price              -0.504169          0.841789  0.598219      0.258805   \n",
              "TopSpeed           -0.262173          0.678679  0.769523      0.445418   \n",
              "Transmission             NaN               NaN       NaN           NaN   \n",
              "\n",
              "                  Charging T     Price  TopSpeed  Transmission  \n",
              "Brand Name         -0.125481 -0.504169 -0.262173           NaN  \n",
              "Battery Capacity    0.438610  0.841789  0.678679           NaN  \n",
              "Range               0.286326  0.598219  0.769523           NaN  \n",
              "Num of Seats        0.165071  0.258805  0.445418           NaN  \n",
              "Charging T          1.000000  0.168974  0.037377           NaN  \n",
              "Price               0.168974  1.000000  0.721774           NaN  \n",
              "TopSpeed            0.037377  0.721774  1.000000           NaN  \n",
              "Transmission             NaN       NaN       NaN           NaN  "
            ]
          },
          "execution_count": 15,
          "metadata": {},
          "output_type": "execute_result"
        }
      ],
      "source": [
        "data.corr()"
      ]
    },
    {
      "cell_type": "code",
      "execution_count": 16,
      "metadata": {
        "colab": {
          "base_uri": "https://localhost:8080/",
          "height": 496
        },
        "id": "EquyGGm0WoP-",
        "outputId": "010fdc50-9a1e-4707-ba41-0c5199843785"
      },
      "outputs": [
        {
          "data": {
            "image/png": "[encoded data removed]",
            "text/plain": [
              "<Figure size 504x504 with 2 Axes>"
            ]
          },
          "metadata": {
            "needs_background": "light"
          },
          "output_type": "display_data"
        }
      ],
      "source": [
        "plt.figure(figsize=(7,7))\n",
        "sns.heatmap(data.corr(), annot=True)\n",
        "plt.show()"
      ]
    },
    {
      "cell_type": "code",
      "execution_count": 17,
      "metadata": {
        "colab": {
          "base_uri": "https://localhost:8080/",
          "height": 661
        },
        "id": "P1s5zhPIWqrx",
        "outputId": "457ff165-ab47-4652-d7f7-dbcb72ec0a50"
      },
      "outputs": [
        {
          "name": "stderr",
          "output_type": "stream",
          "text": [
            "c:\\Users\\mukes\\AppData\\Local\\Programs\\Python\\Python38\\lib\\site-packages\\seaborn\\_decorators.py:36: FutureWarning: Pass the following variable as a keyword arg: x. From version 0.12, the only valid positional argument will be `data`, and passing other arguments without an explicit keyword will result in an error or misinterpretation.\n",
            "  warnings.warn(\n"
          ]
        },
        {
          "data": {
            "image/png": "[encoded data removed]",
            "text/plain": [
              "<Figure size 1440x720 with 1 Axes>"
            ]
          },
          "metadata": {
            "needs_background": "light"
          },
          "output_type": "display_data"
        }
      ],
      "source": [
        "plt.figure(figsize=(20,10))\n",
        "sns.countplot(data.Price)\n",
        "plt.xlabel(\"Range\")\n",
        "plt.ylabel(\"Price\")\n",
        "plt.show()"
      ]
    },
    {
      "cell_type": "code",
      "execution_count": 18,
      "metadata": {
        "colab": {
          "base_uri": "https://localhost:8080/"
        },
        "id": "6UdRFn6qXVcG",
        "outputId": "3e686376-987d-44ac-e2b8-20d319046de2"
      },
      "outputs": [
        {
          "name": "stdout",
          "output_type": "stream",
          "text": [
            "<class 'pandas.core.frame.DataFrame'>\n",
            "RangeIndex: 18 entries, 0 to 17\n",
            "Data columns (total 8 columns):\n",
            " #   Column            Non-Null Count  Dtype\n",
            "---  ------            --------------  -----\n",
            " 0   Brand Name        18 non-null     int8 \n",
            " 1   Battery Capacity  18 non-null     int64\n",
            " 2   Range             18 non-null     int64\n",
            " 3   Num of Seats      18 non-null     int64\n",
            " 4   Charging T        18 non-null     int64\n",
            " 5   Price             18 non-null     int64\n",
            " 6   TopSpeed          18 non-null     int64\n",
            " 7   Transmission      18 non-null     int8 \n",
            "dtypes: int64(6), int8(2)\n",
            "memory usage: 1.0 KB\n"
          ]
        }
      ],
      "source": [
        "data.info()"
      ]
    },
    {
      "cell_type": "code",
      "execution_count": 22,
      "metadata": {},
      "outputs": [
        {
          "ename": "KeyError",
          "evalue": "\"['Brand Name'] not found in axis\"",
          "output_type": "error",
          "traceback": [
            "\u001b[1;31m---------------------------------------------------------------------------\u001b[0m",
            "\u001b[1;31mKeyError\u001b[0m                                  Traceback (most recent call last)",
            "\u001b[1;32m<ipython-input-22-0f1e3cf265a0>\u001b[0m in \u001b[0;36m<module>\u001b[1;34m\u001b[0m\n\u001b[1;32m----> 1\u001b[1;33m \u001b[0mdata\u001b[0m \u001b[1;33m=\u001b[0m \u001b[0mdata\u001b[0m\u001b[1;33m.\u001b[0m\u001b[0mdrop\u001b[0m\u001b[1;33m(\u001b[0m\u001b[0mcolumns\u001b[0m\u001b[1;33m=\u001b[0m \u001b[1;33m[\u001b[0m\u001b[1;34m'Brand Name'\u001b[0m\u001b[1;33m]\u001b[0m\u001b[1;33m)\u001b[0m\u001b[1;33m\u001b[0m\u001b[1;33m\u001b[0m\u001b[0m\n\u001b[0m",
            "\u001b[1;32mc:\\Users\\mukes\\AppData\\Local\\Programs\\Python\\Python38\\lib\\site-packages\\pandas\\core\\frame.py\u001b[0m in \u001b[0;36mdrop\u001b[1;34m(self, labels, axis, index, columns, level, inplace, errors)\u001b[0m\n\u001b[0;32m   4306\u001b[0m                 \u001b[0mweight\u001b[0m  \u001b[1;36m1.0\u001b[0m     \u001b[1;36m0.8\u001b[0m\u001b[1;33m\u001b[0m\u001b[1;33m\u001b[0m\u001b[0m\n\u001b[0;32m   4307\u001b[0m         \"\"\"\n\u001b[1;32m-> 4308\u001b[1;33m         return super().drop(\n\u001b[0m\u001b[0;32m   4309\u001b[0m             \u001b[0mlabels\u001b[0m\u001b[1;33m=\u001b[0m\u001b[0mlabels\u001b[0m\u001b[1;33m,\u001b[0m\u001b[1;33m\u001b[0m\u001b[1;33m\u001b[0m\u001b[0m\n\u001b[0;32m   4310\u001b[0m             \u001b[0maxis\u001b[0m\u001b[1;33m=\u001b[0m\u001b[0maxis\u001b[0m\u001b[1;33m,\u001b[0m\u001b[1;33m\u001b[0m\u001b[1;33m\u001b[0m\u001b[0m\n",
            "\u001b[1;32mc:\\Users\\mukes\\AppData\\Local\\Programs\\Python\\Python38\\lib\\site-packages\\pandas\\core\\generic.py\u001b[0m in \u001b[0;36mdrop\u001b[1;34m(self, labels, axis, index, columns, level, inplace, errors)\u001b[0m\n\u001b[0;32m   4151\u001b[0m         \u001b[1;32mfor\u001b[0m \u001b[0maxis\u001b[0m\u001b[1;33m,\u001b[0m \u001b[0mlabels\u001b[0m \u001b[1;32min\u001b[0m \u001b[0maxes\u001b[0m\u001b[1;33m.\u001b[0m\u001b[0mitems\u001b[0m\u001b[1;33m(\u001b[0m\u001b[1;33m)\u001b[0m\u001b[1;33m:\u001b[0m\u001b[1;33m\u001b[0m\u001b[1;33m\u001b[0m\u001b[0m\n\u001b[0;32m   4152\u001b[0m             \u001b[1;32mif\u001b[0m \u001b[0mlabels\u001b[0m \u001b[1;32mis\u001b[0m \u001b[1;32mnot\u001b[0m \u001b[1;32mNone\u001b[0m\u001b[1;33m:\u001b[0m\u001b[1;33m\u001b[0m\u001b[1;33m\u001b[0m\u001b[0m\n\u001b[1;32m-> 4153\u001b[1;33m                 \u001b[0mobj\u001b[0m \u001b[1;33m=\u001b[0m \u001b[0mobj\u001b[0m\u001b[1;33m.\u001b[0m\u001b[0m_drop_axis\u001b[0m\u001b[1;33m(\u001b[0m\u001b[0mlabels\u001b[0m\u001b[1;33m,\u001b[0m \u001b[0maxis\u001b[0m\u001b[1;33m,\u001b[0m \u001b[0mlevel\u001b[0m\u001b[1;33m=\u001b[0m\u001b[0mlevel\u001b[0m\u001b[1;33m,\u001b[0m \u001b[0merrors\u001b[0m\u001b[1;33m=\u001b[0m\u001b[0merrors\u001b[0m\u001b[1;33m)\u001b[0m\u001b[1;33m\u001b[0m\u001b[1;33m\u001b[0m\u001b[0m\n\u001b[0m\u001b[0;32m   4154\u001b[0m \u001b[1;33m\u001b[0m\u001b[0m\n\u001b[0;32m   4155\u001b[0m         \u001b[1;32mif\u001b[0m \u001b[0minplace\u001b[0m\u001b[1;33m:\u001b[0m\u001b[1;33m\u001b[0m\u001b[1;33m\u001b[0m\u001b[0m\n",
            "\u001b[1;32mc:\\Users\\mukes\\AppData\\Local\\Programs\\Python\\Python38\\lib\\site-packages\\pandas\\core\\generic.py\u001b[0m in \u001b[0;36m_drop_axis\u001b[1;34m(self, labels, axis, level, errors)\u001b[0m\n\u001b[0;32m   4186\u001b[0m                 \u001b[0mnew_axis\u001b[0m \u001b[1;33m=\u001b[0m \u001b[0maxis\u001b[0m\u001b[1;33m.\u001b[0m\u001b[0mdrop\u001b[0m\u001b[1;33m(\u001b[0m\u001b[0mlabels\u001b[0m\u001b[1;33m,\u001b[0m \u001b[0mlevel\u001b[0m\u001b[1;33m=\u001b[0m\u001b[0mlevel\u001b[0m\u001b[1;33m,\u001b[0m \u001b[0merrors\u001b[0m\u001b[1;33m=\u001b[0m\u001b[0merrors\u001b[0m\u001b[1;33m)\u001b[0m\u001b[1;33m\u001b[0m\u001b[1;33m\u001b[0m\u001b[0m\n\u001b[0;32m   4187\u001b[0m             \u001b[1;32melse\u001b[0m\u001b[1;33m:\u001b[0m\u001b[1;33m\u001b[0m\u001b[1;33m\u001b[0m\u001b[0m\n\u001b[1;32m-> 4188\u001b[1;33m                 \u001b[0mnew_axis\u001b[0m \u001b[1;33m=\u001b[0m \u001b[0maxis\u001b[0m\u001b[1;33m.\u001b[0m\u001b[0mdrop\u001b[0m\u001b[1;33m(\u001b[0m\u001b[0mlabels\u001b[0m\u001b[1;33m,\u001b[0m \u001b[0merrors\u001b[0m\u001b[1;33m=\u001b[0m\u001b[0merrors\u001b[0m\u001b[1;33m)\u001b[0m\u001b[1;33m\u001b[0m\u001b[1;33m\u001b[0m\u001b[0m\n\u001b[0m\u001b[0;32m   4189\u001b[0m             \u001b[0mresult\u001b[0m \u001b[1;33m=\u001b[0m \u001b[0mself\u001b[0m\u001b[1;33m.\u001b[0m\u001b[0mreindex\u001b[0m\u001b[1;33m(\u001b[0m\u001b[1;33m**\u001b[0m\u001b[1;33m{\u001b[0m\u001b[0maxis_name\u001b[0m\u001b[1;33m:\u001b[0m \u001b[0mnew_axis\u001b[0m\u001b[1;33m}\u001b[0m\u001b[1;33m)\u001b[0m\u001b[1;33m\u001b[0m\u001b[1;33m\u001b[0m\u001b[0m\n\u001b[0;32m   4190\u001b[0m \u001b[1;33m\u001b[0m\u001b[0m\n",
            "\u001b[1;32mc:\\Users\\mukes\\AppData\\Local\\Programs\\Python\\Python38\\lib\\site-packages\\pandas\\core\\indexes\\base.py\u001b[0m in \u001b[0;36mdrop\u001b[1;34m(self, labels, errors)\u001b[0m\n\u001b[0;32m   5589\u001b[0m         \u001b[1;32mif\u001b[0m \u001b[0mmask\u001b[0m\u001b[1;33m.\u001b[0m\u001b[0many\u001b[0m\u001b[1;33m(\u001b[0m\u001b[1;33m)\u001b[0m\u001b[1;33m:\u001b[0m\u001b[1;33m\u001b[0m\u001b[1;33m\u001b[0m\u001b[0m\n\u001b[0;32m   5590\u001b[0m             \u001b[1;32mif\u001b[0m \u001b[0merrors\u001b[0m \u001b[1;33m!=\u001b[0m \u001b[1;34m\"ignore\"\u001b[0m\u001b[1;33m:\u001b[0m\u001b[1;33m\u001b[0m\u001b[1;33m\u001b[0m\u001b[0m\n\u001b[1;32m-> 5591\u001b[1;33m                 \u001b[1;32mraise\u001b[0m \u001b[0mKeyError\u001b[0m\u001b[1;33m(\u001b[0m\u001b[1;34mf\"{labels[mask]} not found in axis\"\u001b[0m\u001b[1;33m)\u001b[0m\u001b[1;33m\u001b[0m\u001b[1;33m\u001b[0m\u001b[0m\n\u001b[0m\u001b[0;32m   5592\u001b[0m             \u001b[0mindexer\u001b[0m \u001b[1;33m=\u001b[0m \u001b[0mindexer\u001b[0m\u001b[1;33m[\u001b[0m\u001b[1;33m~\u001b[0m\u001b[0mmask\u001b[0m\u001b[1;33m]\u001b[0m\u001b[1;33m\u001b[0m\u001b[1;33m\u001b[0m\u001b[0m\n\u001b[0;32m   5593\u001b[0m         \u001b[1;32mreturn\u001b[0m \u001b[0mself\u001b[0m\u001b[1;33m.\u001b[0m\u001b[0mdelete\u001b[0m\u001b[1;33m(\u001b[0m\u001b[0mindexer\u001b[0m\u001b[1;33m)\u001b[0m\u001b[1;33m\u001b[0m\u001b[1;33m\u001b[0m\u001b[0m\n",
            "\u001b[1;31mKeyError\u001b[0m: \"['Brand Name'] not found in axis\""
          ]
        }
      ],
      "source": [
        "data = data.drop(columns= ['Brand Name'])"
      ]
    },
    {
      "cell_type": "code",
      "execution_count": 23,
      "metadata": {
        "colab": {
          "base_uri": "https://localhost:8080/",
          "height": 334
        },
        "id": "8cD--dHyajHb",
        "outputId": "82c98923-3e43-41d1-cdfe-5ac8987775be"
      },
      "outputs": [
        {
          "data": {
            "image/png": "[encoded data removed]",
            "text/plain": [
              "<Figure size 1080x360 with 1 Axes>"
            ]
          },
          "metadata": {
            "needs_background": "light"
          },
          "output_type": "display_data"
        }
      ],
      "source": [
        "wcss = []\n",
        "for k in range(1, 15):\n",
        "    kmeans = KMeans(n_clusters=k)\n",
        "    kmeans.fit(data)\n",
        "    wcss.append(kmeans.inertia_)\n",
        "\n",
        "plt.figure(figsize=(15, 5))\n",
        "plt.plot(range(1, 15), wcss)\n",
        "plt.xlabel('Number of clusters')\n",
        "plt.ylabel('wcss')\n",
        "plt.show()"
      ]
    },
    {
      "cell_type": "code",
      "execution_count": 24,
      "metadata": {
        "id": "4_haxCuLbBgf"
      },
      "outputs": [],
      "source": [
        "kmeans = KMeans(4, init = 'k-means++', random_state=42).fit(data)\n",
        "data['cluster_number'] = kmeans.labels_"
      ]
    },
    {
      "cell_type": "code",
      "execution_count": 25,
      "metadata": {
        "colab": {
          "base_uri": "https://localhost:8080/",
          "height": 614
        },
        "id": "Vu1Q5WYwbJgD",
        "outputId": "ed65c102-9307-43b6-d6ad-7f55c87b861e"
      },
      "outputs": [
        {
          "data": {
            "text/html": [
              "<div>\n",
              "<style scoped>\n",
              "    .dataframe tbody tr th:only-of-type {\n",
              "        vertical-align: middle;\n",
              "    }\n",
              "\n",
              "    .dataframe tbody tr th {\n",
              "        vertical-align: top;\n",
              "    }\n",
              "\n",
              "    .dataframe thead th {\n",
              "        text-align: right;\n",
              "    }\n",
              "</style>\n",
              "<table border=\"1\" class=\"dataframe\">\n",
              "  <thead>\n",
              "    <tr style=\"text-align: right;\">\n",
              "      <th></th>\n",
              "      <th>Battery Capacity</th>\n",
              "      <th>Range</th>\n",
              "      <th>Num of Seats</th>\n",
              "      <th>Charging T</th>\n",
              "      <th>Price</th>\n",
              "      <th>TopSpeed</th>\n",
              "      <th>Transmission</th>\n",
              "      <th>cluster_number</th>\n",
              "    </tr>\n",
              "  </thead>\n",
              "  <tbody>\n",
              "    <tr>\n",
              "      <th>0</th>\n",
              "      <td>93</td>\n",
              "      <td>480</td>\n",
              "      <td>5</td>\n",
              "      <td>9</td>\n",
              "      <td>204</td>\n",
              "      <td>250</td>\n",
              "      <td>0</td>\n",
              "      <td>0</td>\n",
              "    </tr>\n",
              "    <tr>\n",
              "      <th>1</th>\n",
              "      <td>93</td>\n",
              "      <td>500</td>\n",
              "      <td>5</td>\n",
              "      <td>9</td>\n",
              "      <td>179</td>\n",
              "      <td>245</td>\n",
              "      <td>0</td>\n",
              "      <td>0</td>\n",
              "    </tr>\n",
              "    <tr>\n",
              "      <th>2</th>\n",
              "      <td>95</td>\n",
              "      <td>484</td>\n",
              "      <td>5</td>\n",
              "      <td>9</td>\n",
              "      <td>123</td>\n",
              "      <td>200</td>\n",
              "      <td>0</td>\n",
              "      <td>0</td>\n",
              "    </tr>\n",
              "    <tr>\n",
              "      <th>3</th>\n",
              "      <td>30</td>\n",
              "      <td>312</td>\n",
              "      <td>5</td>\n",
              "      <td>9</td>\n",
              "      <td>17</td>\n",
              "      <td>180</td>\n",
              "      <td>0</td>\n",
              "      <td>1</td>\n",
              "    </tr>\n",
              "    <tr>\n",
              "      <th>4</th>\n",
              "      <td>26</td>\n",
              "      <td>306</td>\n",
              "      <td>5</td>\n",
              "      <td>9</td>\n",
              "      <td>14</td>\n",
              "      <td>120</td>\n",
              "      <td>0</td>\n",
              "      <td>1</td>\n",
              "    </tr>\n",
              "    <tr>\n",
              "      <th>5</th>\n",
              "      <td>39</td>\n",
              "      <td>452</td>\n",
              "      <td>5</td>\n",
              "      <td>7</td>\n",
              "      <td>24</td>\n",
              "      <td>155</td>\n",
              "      <td>0</td>\n",
              "      <td>3</td>\n",
              "    </tr>\n",
              "    <tr>\n",
              "      <th>6</th>\n",
              "      <td>90</td>\n",
              "      <td>470</td>\n",
              "      <td>5</td>\n",
              "      <td>13</td>\n",
              "      <td>112</td>\n",
              "      <td>200</td>\n",
              "      <td>0</td>\n",
              "      <td>0</td>\n",
              "    </tr>\n",
              "    <tr>\n",
              "      <th>7</th>\n",
              "      <td>21</td>\n",
              "      <td>140</td>\n",
              "      <td>5</td>\n",
              "      <td>12</td>\n",
              "      <td>10</td>\n",
              "      <td>86</td>\n",
              "      <td>0</td>\n",
              "      <td>2</td>\n",
              "    </tr>\n",
              "    <tr>\n",
              "      <th>8</th>\n",
              "      <td>44</td>\n",
              "      <td>340</td>\n",
              "      <td>5</td>\n",
              "      <td>8</td>\n",
              "      <td>25</td>\n",
              "      <td>120</td>\n",
              "      <td>0</td>\n",
              "      <td>1</td>\n",
              "    </tr>\n",
              "    <tr>\n",
              "      <th>9</th>\n",
              "      <td>80</td>\n",
              "      <td>414</td>\n",
              "      <td>5</td>\n",
              "      <td>21</td>\n",
              "      <td>100</td>\n",
              "      <td>180</td>\n",
              "      <td>0</td>\n",
              "      <td>0</td>\n",
              "    </tr>\n",
              "    <tr>\n",
              "      <th>10</th>\n",
              "      <td>10</td>\n",
              "      <td>100</td>\n",
              "      <td>4</td>\n",
              "      <td>8</td>\n",
              "      <td>9</td>\n",
              "      <td>80</td>\n",
              "      <td>0</td>\n",
              "      <td>2</td>\n",
              "    </tr>\n",
              "    <tr>\n",
              "      <th>11</th>\n",
              "      <td>40</td>\n",
              "      <td>437</td>\n",
              "      <td>5</td>\n",
              "      <td>9</td>\n",
              "      <td>17</td>\n",
              "      <td>245</td>\n",
              "      <td>0</td>\n",
              "      <td>3</td>\n",
              "    </tr>\n",
              "    <tr>\n",
              "      <th>12</th>\n",
              "      <td>64</td>\n",
              "      <td>484</td>\n",
              "      <td>5</td>\n",
              "      <td>12</td>\n",
              "      <td>23</td>\n",
              "      <td>200</td>\n",
              "      <td>0</td>\n",
              "      <td>3</td>\n",
              "    </tr>\n",
              "    <tr>\n",
              "      <th>13</th>\n",
              "      <td>71</td>\n",
              "      <td>415</td>\n",
              "      <td>5</td>\n",
              "      <td>29</td>\n",
              "      <td>30</td>\n",
              "      <td>120</td>\n",
              "      <td>0</td>\n",
              "      <td>3</td>\n",
              "    </tr>\n",
              "    <tr>\n",
              "      <th>14</th>\n",
              "      <td>80</td>\n",
              "      <td>471</td>\n",
              "      <td>5</td>\n",
              "      <td>40</td>\n",
              "      <td>99</td>\n",
              "      <td>180</td>\n",
              "      <td>0</td>\n",
              "      <td>0</td>\n",
              "    </tr>\n",
              "    <tr>\n",
              "      <th>15</th>\n",
              "      <td>71</td>\n",
              "      <td>425</td>\n",
              "      <td>5</td>\n",
              "      <td>10</td>\n",
              "      <td>115</td>\n",
              "      <td>250</td>\n",
              "      <td>0</td>\n",
              "      <td>0</td>\n",
              "    </tr>\n",
              "    <tr>\n",
              "      <th>16</th>\n",
              "      <td>79</td>\n",
              "      <td>431</td>\n",
              "      <td>5</td>\n",
              "      <td>22</td>\n",
              "      <td>150</td>\n",
              "      <td>245</td>\n",
              "      <td>0</td>\n",
              "      <td>0</td>\n",
              "    </tr>\n",
              "    <tr>\n",
              "      <th>17</th>\n",
              "      <td>95</td>\n",
              "      <td>484</td>\n",
              "      <td>5</td>\n",
              "      <td>46</td>\n",
              "      <td>101</td>\n",
              "      <td>200</td>\n",
              "      <td>0</td>\n",
              "      <td>0</td>\n",
              "    </tr>\n",
              "  </tbody>\n",
              "</table>\n",
              "</div>"
            ],
            "text/plain": [
              "    Battery Capacity  Range  Num of Seats  Charging T  Price  TopSpeed  \\\n",
              "0                 93    480             5           9    204       250   \n",
              "1                 93    500             5           9    179       245   \n",
              "2                 95    484             5           9    123       200   \n",
              "3                 30    312             5           9     17       180   \n",
              "4                 26    306             5           9     14       120   \n",
              "5                 39    452             5           7     24       155   \n",
              "6                 90    470             5          13    112       200   \n",
              "7                 21    140             5          12     10        86   \n",
              "8                 44    340             5           8     25       120   \n",
              "9                 80    414             5          21    100       180   \n",
              "10                10    100             4           8      9        80   \n",
              "11                40    437             5           9     17       245   \n",
              "12                64    484             5          12     23       200   \n",
              "13                71    415             5          29     30       120   \n",
              "14                80    471             5          40     99       180   \n",
              "15                71    425             5          10    115       250   \n",
              "16                79    431             5          22    150       245   \n",
              "17                95    484             5          46    101       200   \n",
              "\n",
              "    Transmission  cluster_number  \n",
              "0              0               0  \n",
              "1              0               0  \n",
              "2              0               0  \n",
              "3              0               1  \n",
              "4              0               1  \n",
              "5              0               3  \n",
              "6              0               0  \n",
              "7              0               2  \n",
              "8              0               1  \n",
              "9              0               0  \n",
              "10             0               2  \n",
              "11             0               3  \n",
              "12             0               3  \n",
              "13             0               3  \n",
              "14             0               0  \n",
              "15             0               0  \n",
              "16             0               0  \n",
              "17             0               0  "
            ]
          },
          "execution_count": 25,
          "metadata": {},
          "output_type": "execute_result"
        }
      ],
      "source": [
        "data"
      ]
    },
    {
      "cell_type": "code",
      "execution_count": 26,
      "metadata": {
        "colab": {
          "base_uri": "https://localhost:8080/",
          "height": 361
        },
        "id": "7P7AyeVcbK5x",
        "outputId": "676041cf-490a-441f-ecf7-a9835c05ec95"
      },
      "outputs": [
        {
          "data": {
            "image/png": "[encoded data removed]",
            "text/plain": [
              "<Figure size 432x288 with 1 Axes>"
            ]
          },
          "metadata": {
            "needs_background": "light"
          },
          "output_type": "display_data"
        }
      ],
      "source": [
        "from sklearn.decomposition import PCA\n",
        "from sklearn import preprocessing\n",
        "\n",
        "x = data.values\n",
        "pca = preprocessing.scale(x)\n",
        "pca = PCA(n_components=8)\n",
        "pca = pca.fit_transform(x)\n",
        "\n",
        "pf = pd.DataFrame(data=pca, columns=[f\"PC{i+1}\" for i in range(8)])\n",
        "sns.scatterplot(data=pf, x='PC1', y='PC2', hue=kmeans.labels_)\n",
        "plt.scatter(kmeans.cluster_centers_[:, 0], kmeans.cluster_centers_[:, 1], marker='+', c=\"r\", s=50, label='centroids')\n",
        "plt.legend()\n",
        "plt.show()"
      ]
    },
    {
      "cell_type": "code",
      "execution_count": 34,
      "metadata": {
        "colab": {
          "base_uri": "https://localhost:8080/",
          "height": 378
        },
        "id": "hNBljJAGdGYV",
        "outputId": "1afe13d9-66d1-4ae9-bd11-79440c592a0e"
      },
      "outputs": [
        {
          "data": {
            "text/plain": [
              "<AxesSubplot:xlabel='cluster_number', ylabel='Range'>"
            ]
          },
          "execution_count": 34,
          "metadata": {},
          "output_type": "execute_result"
        },
        {
          "data": {
            "image/png": "[encoded data removed]",
            "text/plain": [
              "<Figure size 432x288 with 1 Axes>"
            ]
          },
          "metadata": {
            "needs_background": "light"
          },
          "output_type": "display_data"
        }
      ],
      "source": [
        "sns.boxplot(x='cluster_number', y='Range', data=data)"
      ]
    },
    {
      "cell_type": "code",
      "execution_count": 37,
      "metadata": {
        "colab": {
          "base_uri": "https://localhost:8080/",
          "height": 378
        },
        "id": "DdbRvSTPdXRM",
        "outputId": "d055f7ab-3254-4343-eb1e-0ccca77799d5"
      },
      "outputs": [
        {
          "data": {
            "text/plain": [
              "<AxesSubplot:xlabel='cluster_number', ylabel='Battery Capacity'>"
            ]
          },
          "execution_count": 37,
          "metadata": {},
          "output_type": "execute_result"
        },
        {
          "data": {
            "image/png": "[encoded data removed]",
            "text/plain": [
              "<Figure size 432x288 with 1 Axes>"
            ]
          },
          "metadata": {
            "needs_background": "light"
          },
          "output_type": "display_data"
        }
      ],
      "source": [
        "sns.boxplot(x='cluster_number', y='Battery Capacity', data=data)"
      ]
    },
    {
      "cell_type": "code",
      "execution_count": 38,
      "metadata": {},
      "outputs": [
        {
          "data": {
            "text/plain": [
              "<AxesSubplot:xlabel='cluster_number', ylabel='Price'>"
            ]
          },
          "execution_count": 38,
          "metadata": {},
          "output_type": "execute_result"
        },
        {
          "data": {
            "image/png": "[encoded data removed]",
            "text/plain": [
              "<Figure size 432x288 with 1 Axes>"
            ]
          },
          "metadata": {
            "needs_background": "light"
          },
          "output_type": "display_data"
        }
      ],
      "source": [
        "sns.boxplot(x='cluster_number', y='Price', data=data)"
      ]
    },
    {
      "cell_type": "code",
      "execution_count": 40,
      "metadata": {},
      "outputs": [
        {
          "data": {
            "text/plain": [
              "<AxesSubplot:xlabel='cluster_number', ylabel='Charging T'>"
            ]
          },
          "execution_count": 40,
          "metadata": {},
          "output_type": "execute_result"
        },
        {
          "data": {
            "image/png": "[encoded data removed]",
            "text/plain": [
              "<Figure size 432x288 with 1 Axes>"
            ]
          },
          "metadata": {
            "needs_background": "light"
          },
          "output_type": "display_data"
        }
      ],
      "source": [
        "sns.boxplot(x='cluster_number', y='Charging T', data=data)"
      ]
    },
    {
      "cell_type": "code",
      "execution_count": 43,
      "metadata": {},
      "outputs": [
        {
          "data": {
            "text/plain": [
              "<AxesSubplot:xlabel='cluster_number', ylabel='TopSpeed'>"
            ]
          },
          "execution_count": 43,
          "metadata": {},
          "output_type": "execute_result"
        },
        {
          "data": {
            "image/png": "[encoded data removed]",
            "text/plain": [
              "<Figure size 432x288 with 1 Axes>"
            ]
          },
          "metadata": {
            "needs_background": "light"
          },
          "output_type": "display_data"
        }
      ],
      "source": [
        "sns.boxplot(x='cluster_number', y='TopSpeed', data=data)"
      ]
    },
    {
      "cell_type": "markdown",
      "metadata": {},
      "source": [
        "Inferences:\n",
        "1. The cost of vehicles in cluster 0 are more expensive when compared to other clusters.\n",
        "2. The range of cluster 0 vehicles are more than other vehicles belonging to other clusters.\n",
        "3. The charging time of vehicles with high range is more than vehicles with less range.\n",
        "4. The battery capacity of cluster 0 vehicles is more when compared to other vehicles."
      ]
    },
    {
      "cell_type": "markdown",
      "metadata": {},
      "source": [
        "Marketing Mix:\n",
        "1. New electric vehicles must offer a range of above 400 km.\n",
        "2. The charging time of the car must be less than 15 hrs\n",
        "3. The top speed of the car must be more than 200kmph\n",
        "4. The battery capacity of the car must be more than 80 to improve the sales."
      ]
    }
  ],
  "metadata": {
    "colab": {
      "name": "Untitled5.ipynb",
      "provenance": []
    },
    "kernelspec": {
      "display_name": "Python 3.8.2 64-bit",
      "language": "python",
      "name": "python3"
    },
    "language_info": {
      "codemirror_mode": {
        "name": "ipython",
        "version": 3
      },
      "file_extension": ".py",
      "mimetype": "text/x-python",
      "name": "python",
      "nbconvert_exporter": "python",
      "pygments_lexer": "ipython3",
      "version": "3.8.2"
    },
    "vscode": {
      "interpreter": {
        "hash": "c0e48fef821bdc729b1157abad84b79a01690821a4033b894bcf82ceb57791b9"
      }
    }
  },
  "nbformat": 4,
  "nbformat_minor": 0
}
